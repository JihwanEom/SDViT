{
 "cells": [
  {
   "cell_type": "code",
   "execution_count": 1,
   "id": "111415ac",
   "metadata": {},
   "outputs": [],
   "source": [
    "import pandas as pd\n",
    "import numpy as np\n",
    "import shutil\n",
    "import glob\n",
    "import os"
   ]
  },
  {
   "cell_type": "code",
   "execution_count": 39,
   "id": "df1b2715",
   "metadata": {},
   "outputs": [
    {
     "name": "stdout",
     "output_type": "stream",
     "text": [
      "ERM_ViT-baseline & 44.1 $\\pm$ 0.2 & 44.1 $\\pm$ 0.2 & 44.1 $\\pm$ 0.2 & 44.1 $\\pm$ 0.2& nan \\\\\n",
      "\n",
      "ERM_ViT-baseline & 44.1 $\\pm$ 0.2 & 44.1 $\\pm$ 0.2 & 44.1 $\\pm$ 0.2 & 44.1 $\\pm$ 0.2& nan \\\\\n",
      "\n",
      "ERM_ViT-baseline & 44.1 $\\pm$ 0.2 & 44.1 $\\pm$ 0.2 & 44.1 $\\pm$ 0.2 & 44.1 $\\pm$ 0.2& nan \\\\\n",
      "\n",
      "ERM_ViT-baseline & 44.1 $\\pm$ 0.2 & 44.1 $\\pm$ 0.2 & 44.1 $\\pm$ 0.2 & 44.1 $\\pm$ 0.2& nan \\\\\n",
      "\n",
      "ERM_SDViT-baseline & 44.1 $\\pm$ 0.2 & 44.1 $\\pm$ 0.2 & 44.1 $\\pm$ 0.2 & 44.1 $\\pm$ 0.2& nan \\\\\n",
      "\n",
      "ERM_SDViT-baseline & 44.1 $\\pm$ 0.2 & 44.1 $\\pm$ 0.2 & 44.1 $\\pm$ 0.2 & 44.1 $\\pm$ 0.2& nan \\\\\n",
      "\n",
      "ERM_SDViT-baseline & 44.1 $\\pm$ 0.2 & 44.1 $\\pm$ 0.2 & 44.1 $\\pm$ 0.2 & 44.1 $\\pm$ 0.2& nan \\\\\n",
      "\n",
      "ERM_SDViT-baseline & 44.1 $\\pm$ 0.2 & 44.1 $\\pm$ 0.2 & 44.1 $\\pm$ 0.2 & 44.1 $\\pm$ 0.2& nan \\\\\n",
      "\n"
     ]
    }
   ],
   "source": [
    "algorithms = ['ERM_ViT', 'ERM_SDViT']\n",
    "models = ['baseline', 'EMA', 'CutMix', 'EMA_CutMix']\n",
    "for algorithm in algorithms:\n",
    "    for model in models:\n",
    "        avg_buffer = ''\n",
    "        case_avg_values = []\n",
    "        for dataset_idx, dataset in enumerate(['PACS', 'VLCS', 'OfficeHome', 'TerraIncognita']):\n",
    "        #     print(dataset)\n",
    "            tex_files = sorted(glob.glob(f'logs/{dataset}/{algorithm}/{model}/*results.tex'))\n",
    "            for tex_file in tex_files:\n",
    "                with open(tex_file, 'r') as f:\n",
    "                    lines = f.read().splitlines()\n",
    "                _, dataset, algorithm, hparam, filename = tex_file.split('/')\n",
    "                score_lines = [i for i in lines if i.find(algorithm.replace('-', '_')) >= 0]\n",
    "                values = score_lines[0].split('&')[1:]\n",
    "                values = [val.strip(' ') for val in values]\n",
    "                cls_latex = algorithm+'-'+hparam+' & '+' &'.join(values)\n",
    "                avg_value = score_lines[1].split('&')[1].strip(' ')\n",
    "                case_avg = float(avg_value.split(' $')[0])\n",
    "                case_avg_values.append(case_avg)\n",
    "                avg_latex = ' & '+avg_value\n",
    "            if dataset_idx == 0:\n",
    "                avg_buffer += algorithm+'-'+hparam+avg_latex\n",
    "            else:\n",
    "                avg_buffer += avg_latex\n",
    "        final_avg = str(round(np.mean(case_avg_values), 1))\n",
    "        avg_buffer += '& '+str(round(np.mean(case_avg_values), 1))+' \\\\'+'\\\\'\n",
    "        print(avg_buffer)\n",
    "        print()"
   ]
  },
  {
   "cell_type": "code",
   "execution_count": null,
   "id": "bdef82cc",
   "metadata": {},
   "outputs": [],
   "source": []
  }
 ],
 "metadata": {
  "kernelspec": {
   "display_name": "Python 3 (ipykernel)",
   "language": "python",
   "name": "python3"
  },
  "language_info": {
   "codemirror_mode": {
    "name": "ipython",
    "version": 3
   },
   "file_extension": ".py",
   "mimetype": "text/x-python",
   "name": "python",
   "nbconvert_exporter": "python",
   "pygments_lexer": "ipython3",
   "version": "3.8.13"
  }
 },
 "nbformat": 4,
 "nbformat_minor": 5
}
