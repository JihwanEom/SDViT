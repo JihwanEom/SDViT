{
 "cells": [
  {
   "cell_type": "code",
   "execution_count": 1,
   "id": "f0509496",
   "metadata": {},
   "outputs": [],
   "source": [
    "import pandas as pd\n",
    "import numpy as np\n",
    "import shutil\n",
    "import glob\n",
    "import os"
   ]
  },
  {
   "cell_type": "code",
   "execution_count": 4,
   "id": "617aae83",
   "metadata": {},
   "outputs": [
    {
     "name": "stdout",
     "output_type": "stream",
     "text": [
      "ERM-ViT-CVTSmall-baseline & 79.7 $\\pm$ 0.4 & 86.6 $\\pm$ 0.2 & 75.7 $\\pm$ 0.2 & 49.1 $\\pm$ 0.7& 72.8 \\\\\n",
      "ERM-ViT-CVTSmall-EMA & 77.6 $\\pm$ 0.2 & 88.9 $\\pm$ 0.4 & 74.8 $\\pm$ 0.2 & 50.5 $\\pm$ 0.4& 73.0 \\\\\n",
      "ERM-ViT-CVTSmall-CutMix & 80.2 $\\pm$ 0.2 & 88.8 $\\pm$ 0.4 & 76.2 $\\pm$ 0.4 & 52.1 $\\pm$ 0.5& 74.3 \\\\\n",
      "ERM-ViT-CVTSmall-EMA-CutMix & 77.7 $\\pm$ 0.5 & 88.7 $\\pm$ 0.2 & 75.5 $\\pm$ 0.2 & 49.5 $\\pm$ 0.8& 72.8 \\\\\n",
      "\n",
      "ERM-ViT-DeitSmall-baseline & 78.6 $\\pm$ 0.1 & 84.2 $\\pm$ 0.1 & 71.4 $\\pm$ 0.2 & 44.1 $\\pm$ 0.2& 69.6 \\\\\n",
      "ERM-ViT-DeitSmall-EMA & 78.8 $\\pm$ 0.3 & 87.8 $\\pm$ 0.2 & 73.6 $\\pm$ 0.2 & 45.6 $\\pm$ 0.5& 71.4 \\\\\n",
      "ERM-ViT-DeitSmall-CutMix & 79.0 $\\pm$ 0.1 & 86.7 $\\pm$ 0.6 & 72.5 $\\pm$ 0.2 & 47.3 $\\pm$ 0.6& 71.4 \\\\\n",
      "ERM-ViT-DeitSmall-EMA-CutMix & 79.1 $\\pm$ 0.2 & 87.9 $\\pm$ 0.1 & 74.2 $\\pm$ 0.0 & 48.3 $\\pm$ 0.6& 72.4 \\\\\n",
      "\n",
      "ERM-ViT-T2T14-baseline & 78.6 $\\pm$ 0.5 & 88.1 $\\pm$ 0.3 & 73.9 $\\pm$ 0.2 & 48.2 $\\pm$ 0.5& 72.2 \\\\\n",
      "ERM-ViT-T2T14-EMA & 78.6 $\\pm$ 0.1 & 88.7 $\\pm$ 0.3 & 76.0 $\\pm$ 0.1 & 51.5 $\\pm$ 0.1& 73.7 \\\\\n",
      "ERM-ViT-T2T14-CutMix & 79.9 $\\pm$ 0.2 & 87.4 $\\pm$ 0.5 & 74.3 $\\pm$ 0.2 & 49.6 $\\pm$ 0.0& 72.8 \\\\\n",
      "ERM-ViT-T2T14-EMA-CutMix & 79.4 $\\pm$ 0.3 & 89.2 $\\pm$ 0.1 & 76.8 $\\pm$ 0.1 & 53.2 $\\pm$ 0.2& 74.6 \\\\\n",
      "\n"
     ]
    }
   ],
   "source": [
    "#algorithms = ['ERM-ViT', 'ERM-SDViT']\n",
    "algorithms = ['ERM-ViT']\n",
    "backbones = ['CVTSmall', 'DeitSmall', 'T2T14']\n",
    "models = ['baseline', 'EMA', 'CutMix', 'EMA_CutMix']\n",
    "datasets = ['VLCS', 'PACS', 'OfficeHome', 'TerraIncognita']\n",
    "for algorithm in algorithms:\n",
    "    for backbone in backbones:\n",
    "        for model in models:\n",
    "            avg_buffer = ''\n",
    "            case_avg_values = []\n",
    "            for dataset_idx, dataset in enumerate(datasets):\n",
    "                tex_files = sorted(glob.glob(f'/mnt/prj/logs/{dataset}/{algorithm}/{backbone}/{model}/*results.tex'))\n",
    "                for tex_file in tex_files:\n",
    "                    with open(tex_file, 'r') as f:\n",
    "                        lines = f.read().splitlines()\n",
    "                    _, _, _, _, ds, algorithm, backbone, model, filename = tex_file.split('/')\n",
    "                    score_lines = [i for i in lines if i.find(algorithm.replace('-', '_')) >= 0]\n",
    "                    values = score_lines[0].split('&')[1:]\n",
    "                    values = [val.strip(' ') for val in values]\n",
    "                    cls_latex = algorithm+'-'+model.replace('_', '-')+' & '+' &'.join(values)\n",
    "                    cls_latex = cls_latex.replace('                 \\\\\\\\', ' \\\\')+'\\\\'\n",
    "                    avg_value = score_lines[1].split('&')[1].strip(' ')\n",
    "                    case_avg = float(avg_value.split(' $')[0])\n",
    "                    case_avg_values.append(case_avg)\n",
    "                    avg_latex = ' & '+avg_value\n",
    "                if dataset_idx == 0:\n",
    "                    avg_buffer += algorithm+'-'+backbone+'-'+model.replace('_', '-')+avg_latex\n",
    "                else:\n",
    "                    avg_buffer += avg_latex\n",
    "            final_avg = str(round(np.mean(case_avg_values), 1))\n",
    "            avg_buffer += '& '+str(round(np.mean(case_avg_values), 1))+' \\\\'+'\\\\'\n",
    "            print(avg_buffer)\n",
    "        print('')\n"
   ]
  }
 ],
 "metadata": {
  "kernelspec": {
   "display_name": "Python 3.8.13 ('dg')",
   "language": "python",
   "name": "python3"
  },
  "language_info": {
   "codemirror_mode": {
    "name": "ipython",
    "version": 3
   },
   "file_extension": ".py",
   "mimetype": "text/x-python",
   "name": "python",
   "nbconvert_exporter": "python",
   "pygments_lexer": "ipython3",
   "version": "3.8.13"
  },
  "vscode": {
   "interpreter": {
    "hash": "0ec48fc88696431ec444a1f3b546ae1bfb8b013b62921e854a025919008f3add"
   }
  }
 },
 "nbformat": 4,
 "nbformat_minor": 5
}
