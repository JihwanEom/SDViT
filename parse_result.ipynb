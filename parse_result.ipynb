{
 "cells": [
  {
   "cell_type": "code",
   "execution_count": 1,
   "id": "f0509496",
   "metadata": {},
   "outputs": [],
   "source": [
    "import pandas as pd\n",
    "import numpy as np\n",
    "import shutil\n",
    "import glob\n",
    "import os"
   ]
  },
  {
   "cell_type": "code",
   "execution_count": 35,
   "id": "617aae83",
   "metadata": {},
   "outputs": [
    {
     "name": "stdout",
     "output_type": "stream",
     "text": [
      "ERM-ViT-baseline-T3A & 78.6 $\\pm$ 0.1 & 84.2 $\\pm$ 0.1 & 71.4 $\\pm$ 0.2 & 44.1 $\\pm$ 0.2& 69.6 \\\\\n",
      "ERM-ViT-EMA-T3A & 78.8 $\\pm$ 0.3 & 87.8 $\\pm$ 0.2 & 73.6 $\\pm$ 0.2 & 45.6 $\\pm$ 0.5& 71.4 \\\\\n",
      "ERM-ViT-CutMix-T3A & 79.0 $\\pm$ 0.1 & 86.7 $\\pm$ 0.6 & 72.5 $\\pm$ 0.2 & 47.3 $\\pm$ 0.6& 71.4 \\\\\n",
      "ERM-ViT-EMA-CutMix-T3A & 79.1 $\\pm$ 0.2 & 87.9 $\\pm$ 0.1 & 74.2 $\\pm$ 0.0 & 48.3 $\\pm$ 0.6& 72.4 \\\\\n",
      "ERM-SDViT-baseline-T3A & 79.0 $\\pm$ 0.4 & 85.1 $\\pm$ 0.2 & 71.0 $\\pm$ 0.3 & 43.7 $\\pm$ 0.8& 69.7 \\\\\n",
      "ERM-SDViT-EMA-T3A & 79.2 $\\pm$ 0.1 & 87.7 $\\pm$ 0.2 & 73.7 $\\pm$ 0.3 & 47.0 $\\pm$ 0.6& 71.9 \\\\\n",
      "ERM-SDViT-CutMix-T3A & 78.8 $\\pm$ 0.3 & 85.4 $\\pm$ 0.4 & 72.7 $\\pm$ 0.1 & 46.2 $\\pm$ 0.8& 70.8 \\\\\n",
      "ERM-SDViT-EMA-CutMix-T3A & 79.1 $\\pm$ 0.0 & 87.8 $\\pm$ 0.1 & 74.2 $\\pm$ 0.1 & 48.3 $\\pm$ 0.3& 72.4 \\\\\n"
     ]
    }
   ],
   "source": [
    "algorithms = ['ERM-ViT', 'ERM-SDViT']\n",
    "models = ['baseline', 'EMA', 'CutMix', 'EMA_CutMix']\n",
    "for algorithm in algorithms:\n",
    "    for model in models:\n",
    "        avg_buffer = ''\n",
    "        case_avg_values = []\n",
    "        for dataset_idx, dataset in enumerate(['VLCS', 'PACS', 'OfficeHome', 'TerraIncognita']):\n",
    "            tex_files = sorted(glob.glob(f'logs/{dataset}/{algorithm}/{model}/*results.tex'))\n",
    "            for tex_file in tex_files:\n",
    "                with open(tex_file, 'r') as f:\n",
    "                    lines = f.read().splitlines()\n",
    "                _, ds, algorithm, hparam, filename = tex_file.split('/')\n",
    "                score_lines = [i for i in lines if i.find(algorithm.replace('-', '_')) >= 0]\n",
    "                values = score_lines[0].split('&')[1:]\n",
    "                values = [val.strip(' ') for val in values]\n",
    "                cls_latex = algorithm+'-'+hparam.replace('_', '-')+' & '+' &'.join(values)\n",
    "                cls_latex = cls_latex.replace('                 \\\\\\\\', ' \\\\')+'\\\\'\n",
    "                avg_value = score_lines[1].split('&')[1].strip(' ')\n",
    "                case_avg = float(avg_value.split(' $')[0])\n",
    "                case_avg_values.append(case_avg)\n",
    "                avg_latex = ' & '+avg_value\n",
    "            if dataset_idx == 0:\n",
    "                avg_buffer += algorithm+'-'+hparam.replace('_', '-')+'-T3A'+avg_latex\n",
    "            else:\n",
    "                avg_buffer += avg_latex\n",
    "        final_avg = str(round(np.mean(case_avg_values), 1))\n",
    "        avg_buffer += '& '+str(round(np.mean(case_avg_values), 1))+' \\\\'+'\\\\'\n",
    "        print(avg_buffer)\n"
   ]
  },
  {
   "cell_type": "code",
   "execution_count": 19,
   "id": "0dd9912a",
   "metadata": {},
   "outputs": [
    {
     "data": {
      "text/plain": [
       "'ERM-SDViT-EMA-CutMix & 57.3 $\\\\pm$ 1.6 &36.9 $\\\\pm$ 0.6 &55.7 $\\\\pm$ 0.2 &43.1 $\\\\pm$ 0.3 &48.3 \\\\'"
      ]
     },
     "execution_count": 19,
     "metadata": {},
     "output_type": "execute_result"
    }
   ],
   "source": [
    "cls_latex"
   ]
  },
  {
   "cell_type": "code",
   "execution_count": null,
   "id": "4b748856",
   "metadata": {},
   "outputs": [],
   "source": []
  }
 ],
 "metadata": {
  "kernelspec": {
   "display_name": "Python 3 (ipykernel)",
   "language": "python",
   "name": "python3"
  },
  "language_info": {
   "codemirror_mode": {
    "name": "ipython",
    "version": 3
   },
   "file_extension": ".py",
   "mimetype": "text/x-python",
   "name": "python",
   "nbconvert_exporter": "python",
   "pygments_lexer": "ipython3",
   "version": "3.8.13"
  }
 },
 "nbformat": 4,
 "nbformat_minor": 5
}
