{
 "cells": [
  {
   "cell_type": "code",
   "execution_count": 1,
   "id": "f0509496",
   "metadata": {},
   "outputs": [],
   "source": [
    "import pandas as pd\n",
    "import numpy as np\n",
    "import shutil\n",
    "import glob\n",
    "import os"
   ]
  },
  {
   "cell_type": "code",
   "execution_count": 15,
   "id": "617aae83",
   "metadata": {},
   "outputs": [
    {
     "name": "stdout",
     "output_type": "stream",
     "text": [
      "ERM-ViT-CVTSmall-baseline-T3A & 51.5 $\\pm$ 0.3 & 51.5 $\\pm$ 0.3 & 51.5 $\\pm$ 0.3 & 51.5 $\\pm$ 0.3& nan \\\\\n",
      "ERM-ViT-CVTSmall-EMA-T3A & 51.5 $\\pm$ 0.3 & 51.5 $\\pm$ 0.3 & 51.5 $\\pm$ 0.3 & 51.5 $\\pm$ 0.3& nan \\\\\n",
      "ERM-ViT-CVTSmall-CutMix-T3A & 51.5 $\\pm$ 0.3 & 51.5 $\\pm$ 0.3 & 51.5 $\\pm$ 0.3 & 51.5 $\\pm$ 0.3& nan \\\\\n",
      "ERM-ViT-CVTSmall-EMA-CutMix-T3A & 51.5 $\\pm$ 0.3 & 51.5 $\\pm$ 0.3 & 51.5 $\\pm$ 0.3 & 51.5 $\\pm$ 0.3& nan \\\\\n",
      "\n",
      "ERM-ViT-DeitSmall-baseline-T3A & 51.5 $\\pm$ 0.3 & 51.5 $\\pm$ 0.3 & 51.5 $\\pm$ 0.3 & 51.5 $\\pm$ 0.3& nan \\\\\n",
      "ERM-ViT-DeitSmall-EMA-T3A & 51.5 $\\pm$ 0.3 & 51.5 $\\pm$ 0.3 & 51.5 $\\pm$ 0.3 & 51.5 $\\pm$ 0.3& nan \\\\\n",
      "ERM-ViT-DeitSmall-CutMix-T3A & 51.5 $\\pm$ 0.3 & 51.5 $\\pm$ 0.3 & 51.5 $\\pm$ 0.3 & 51.5 $\\pm$ 0.3& nan \\\\\n",
      "ERM-ViT-DeitSmall-EMA-CutMix-T3A & 51.5 $\\pm$ 0.3 & 51.5 $\\pm$ 0.3 & 51.5 $\\pm$ 0.3 & 51.5 $\\pm$ 0.3& nan \\\\\n",
      "\n",
      "ERM-ViT-T2T14-baseline-T3A & 51.5 $\\pm$ 0.3 & 51.5 $\\pm$ 0.3 & 51.5 $\\pm$ 0.3 & 51.5 $\\pm$ 0.3& nan \\\\\n",
      "ERM-ViT-T2T14-EMA-T3A & 51.5 $\\pm$ 0.3 & 51.5 $\\pm$ 0.3 & 51.5 $\\pm$ 0.3 & 51.5 $\\pm$ 0.3& nan \\\\\n",
      "ERM-ViT-T2T14-CutMix-T3A & 51.5 $\\pm$ 0.3 & 51.5 $\\pm$ 0.3 & 51.5 $\\pm$ 0.3 & 51.5 $\\pm$ 0.3& nan \\\\\n",
      "ERM-ViT-T2T14-EMA-CutMix-T3A & 51.5 $\\pm$ 0.3 & 51.5 $\\pm$ 0.3 & 51.5 $\\pm$ 0.3 & 51.5 $\\pm$ 0.3& nan \\\\\n",
      "\n"
     ]
    },
    {
     "name": "stderr",
     "output_type": "stream",
     "text": [
      "/home/nsml/.conda/envs/dg/lib/python3.8/site-packages/numpy/core/fromnumeric.py:3432: RuntimeWarning: Mean of empty slice.\n",
      "  return _methods._mean(a, axis=axis, dtype=dtype,\n",
      "/home/nsml/.conda/envs/dg/lib/python3.8/site-packages/numpy/core/_methods.py:190: RuntimeWarning: invalid value encountered in double_scalars\n",
      "  ret = ret.dtype.type(ret / rcount)\n"
     ]
    }
   ],
   "source": [
    "#algorithms = ['ERM-ViT', 'ERM-SDViT']\n",
    "algorithms = ['ERM-ViT']\n",
    "backbones = ['CVTSmall', 'DeitSmall', 'T2T14']\n",
    "models = ['baseline', 'EMA', 'CutMix', 'EMA_CutMix']\n",
    "datasets = ['VLCS', 'PACS', 'OfficeHome', 'TerraIncognita']\n",
    "for algorithm in algorithms:\n",
    "    for backbone in backbones:\n",
    "        for model in models:\n",
    "            avg_buffer = ''\n",
    "            case_avg_values = []\n",
    "            for dataset_idx, dataset in enumerate(datasets):\n",
    "                tex_files = sorted(glob.glob(f'/mnt/prj/logs/{dataset}/{algorithm}/{backbone}/{model}/*results_T3A.tex'))\n",
    "                for tex_file in tex_files:\n",
    "                    with open(tex_file, 'r') as f:\n",
    "                        lines = f.read().splitlines()\n",
    "                    _, _, _, _, ds, algorithm, backbone, model, filename = tex_file.split('/')\n",
    "                    # if 'T3A' in tex_file:\n",
    "                    #     algorithm += '-T3A'\n",
    "                    score_lines = [i for i in lines if i.find(algorithm.replace('-', '_')) >= 0]\n",
    "                    values = score_lines[0].split('&')[1:]\n",
    "                    values = [val.strip(' ') for val in values]\n",
    "                    cls_latex = algorithm+'-'+model.replace('_', '-')+' & '+' &'.join(values)\n",
    "                    cls_latex = cls_latex.replace('                 \\\\\\\\', ' \\\\')+'\\\\'\n",
    "                    avg_value = score_lines[1].split('&')[1].strip(' ')\n",
    "                    case_avg = float(avg_value.split(' $')[0])\n",
    "                    case_avg_values.append(case_avg)\n",
    "                    avg_latex = ' & '+avg_value\n",
    "                if dataset_idx == 0:\n",
    "                    avg_buffer += algorithm+'-'+backbone+'-'+model.replace('_', '-')\n",
    "                if 'T3A' in tex_file and 'T3A' not in avg_buffer:\n",
    "                    avg_buffer += '-T3A'\n",
    "                avg_buffer += avg_latex\n",
    "            final_avg = str(round(np.mean(case_avg_values), 1))\n",
    "            avg_buffer += '& '+str(round(np.mean(case_avg_values), 1))+' \\\\'+'\\\\'\n",
    "            print(avg_buffer)\n",
    "        print('')\n"
   ]
  }
 ],
 "metadata": {
  "kernelspec": {
   "display_name": "Python 3.8.13 ('dg')",
   "language": "python",
   "name": "python3"
  },
  "language_info": {
   "codemirror_mode": {
    "name": "ipython",
    "version": 3
   },
   "file_extension": ".py",
   "mimetype": "text/x-python",
   "name": "python",
   "nbconvert_exporter": "python",
   "pygments_lexer": "ipython3",
   "version": "3.8.13"
  },
  "vscode": {
   "interpreter": {
    "hash": "0ec48fc88696431ec444a1f3b546ae1bfb8b013b62921e854a025919008f3add"
   }
  }
 },
 "nbformat": 4,
 "nbformat_minor": 5
}
